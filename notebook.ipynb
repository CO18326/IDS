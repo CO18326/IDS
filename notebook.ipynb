{
 "cells": [
  {
   "cell_type": "code",
   "execution_count": 4,
   "id": "2f355781",
   "metadata": {},
   "outputs": [],
   "source": [
    "import pandas as pd"
   ]
  },
  {
   "cell_type": "code",
   "execution_count": 5,
   "id": "ad382d9d",
   "metadata": {},
   "outputs": [],
   "source": [
    "train_data=pd.read_csv('input/kddcup.data.csv')"
   ]
  },
  {
   "cell_type": "code",
   "execution_count": 6,
   "id": "22897bd4",
   "metadata": {},
   "outputs": [],
   "source": [
    "def attack_class(train):\n",
    "    train.loc[(train['label'].isin(['back.','land.','neptune.','pod.','smurf.','teardrop.'])),'label_type']='Not Normal'\n",
    "    train.loc[train['label'].isin(['ipsweep.','nmap.','portsweep.','satan.']),'label_type']='Not Normal'\n",
    "    train.loc[train['label'].isin(['ftp_write.','guess_passwd.','imap.','multihop.','phf.','spy.','warezclient.','warezmaster.']),'label_type']='Not Normal'\n",
    "    train.loc[train['label'].isin(['buffer_overflow.','loadmodule.','perl.','rootkit.']),'label_type']='Not Normal'\n",
    "    train.loc[train['label']=='normal.','label_type']='Normal'\n",
    "    return train"
   ]
  },
  {
   "cell_type": "code",
   "execution_count": 7,
   "id": "172141c7",
   "metadata": {},
   "outputs": [],
   "source": [
    "cleanup_nums = {\"protocol_type\":     {\"tcp\": 1, \"icmp\": 2, \"udp\": 3},\n",
    "                \"service\": {\"vmnet\": 1, \"smtp\": 2, \"ntp_u\":3, \"shell\":4, \"kshell\":5, \"aol\":6, \"imap4\":7, \"urh_i\":8, \"netbios_ssn\":9,\n",
    "                           \"tftp_u\":10, \"mtp\":11, \"uucp\":12, \"nnsp\":13, \"echo\":14, \"tim_i\":15, \"ssh\":16, \"iso_tsap\":17, \"time\":18,\n",
    "                           \"netbios_ns\":19,\"systat\":20, \"hostnames\":21, \"login\":22, \"efs\":23, \"supdup\":24, \"http_8001\":25, \"courier\":26,\n",
    "                           \"ctf\":27,\"finger\":28,\"nntp\":29,\"ftp_data\":30,\"red_i\":31,\"ldap\":32,\"http\":33,\"ftp\":34,\"pm_dump\":35,\"exec\":36,\n",
    "                           \"klogin\":37,\"auth\":38,\"netbios_dgm\":39,\"other\":40,\"link\":41,\"X11\":42,\"discard\":43,\"private\":44,\"remote_job\":45,\n",
    "                           \"IRC\":46,\"daytime\":47,\"pop_3\":48,\"pop_2\":49,\"gopher\":50,\"sunrpc\":51,\"name\":52,\"rje\":53,\"domain\":54,\"uucp_path\":55,\n",
    "                           \"http_2784\":56,\"Z39_50\":57,\"domain_u\":58,\"csnet_ns\":59,\"whois\":60,\"eco_i\":61,\"bgp\":62,\"sql_net\":63,\"printer\":64,\n",
    "                           \"telnet\":65,\"ecr_i\":66,\"urp_i\":67,\"netstat\":68,\"http_443\":69,\"harvest\":70},\n",
    "               \"flag\":{\"RSTR\":1,\"S3\":2,\"SF\":3,\"RSTO\":4,\"SH\":5,\"OTH\":6,\"S2\":7,\"RSTOS0\":8,\"S1\":9,\"S0\":10,\"REJ\":11},\n",
    "               \"label_type\":{\"Normal\":1,\"Not Normal\":2}}\n",
    "attack_map={\"label_type\":{\"Normal\":1,\"Not Normal\":2}}"
   ]
  },
  {
   "cell_type": "code",
   "execution_count": 8,
   "id": "2aa6905a",
   "metadata": {},
   "outputs": [],
   "source": [
    "column = [\"duration\",\"protocol_type\",\"service\",\"flag\",\"src_bytes\",\"dst_bytes\",\"land\",\"wrong_fragment\",\"urgent\",\"hot\",\"num_failed_logins\",\"logged_in\",\"lnum_compromised\",\"lroot_shell\",\"lsu_attempted\",\"lnum_root\",\"lnum_file_creations\",\"lnum_shells\",\"lnum_access_files\",\"lnum_outbound_cmds\",\"is_host_login\",\"is_guest_login\",\"count\",\"srv_count\",\"serror_rate\",\"srv_serror_rate\",\"rerror_rate\",\"srv_rerror_rate\",\"same_srv_rate\",\"diff_srv_rate\",\"srv_diff_host_rate\",\"dst_host_count\",\"dst_host_srv_count\",\"dst_host_same_srv_rate\",\"dst_host_diff_srv_rate\",\"dst_host_same_src_port_rate\",\"dst_host_srv_diff_host_rate\",\"dst_host_serror_rate\",\"dst_host_srv_serror_rate\",\"dst_host_rerror_rate\",\"dst_host_srv_rerror_rate\",\"label\"]"
   ]
  },
  {
   "cell_type": "code",
   "execution_count": 9,
   "id": "8bbbfbbd",
   "metadata": {},
   "outputs": [],
   "source": [
    "train_data.columns= column"
   ]
  },
  {
   "cell_type": "code",
   "execution_count": 10,
   "id": "6d345de6",
   "metadata": {},
   "outputs": [
    {
     "data": {
      "text/html": [
       "<div>\n",
       "<style scoped>\n",
       "    .dataframe tbody tr th:only-of-type {\n",
       "        vertical-align: middle;\n",
       "    }\n",
       "\n",
       "    .dataframe tbody tr th {\n",
       "        vertical-align: top;\n",
       "    }\n",
       "\n",
       "    .dataframe thead th {\n",
       "        text-align: right;\n",
       "    }\n",
       "</style>\n",
       "<table border=\"1\" class=\"dataframe\">\n",
       "  <thead>\n",
       "    <tr style=\"text-align: right;\">\n",
       "      <th></th>\n",
       "      <th>duration</th>\n",
       "      <th>protocol_type</th>\n",
       "      <th>service</th>\n",
       "      <th>flag</th>\n",
       "      <th>src_bytes</th>\n",
       "      <th>dst_bytes</th>\n",
       "      <th>land</th>\n",
       "      <th>wrong_fragment</th>\n",
       "      <th>urgent</th>\n",
       "      <th>hot</th>\n",
       "      <th>...</th>\n",
       "      <th>dst_host_srv_count</th>\n",
       "      <th>dst_host_same_srv_rate</th>\n",
       "      <th>dst_host_diff_srv_rate</th>\n",
       "      <th>dst_host_same_src_port_rate</th>\n",
       "      <th>dst_host_srv_diff_host_rate</th>\n",
       "      <th>dst_host_serror_rate</th>\n",
       "      <th>dst_host_srv_serror_rate</th>\n",
       "      <th>dst_host_rerror_rate</th>\n",
       "      <th>dst_host_srv_rerror_rate</th>\n",
       "      <th>label</th>\n",
       "    </tr>\n",
       "  </thead>\n",
       "  <tbody>\n",
       "    <tr>\n",
       "      <th>0</th>\n",
       "      <td>0</td>\n",
       "      <td>tcp</td>\n",
       "      <td>http</td>\n",
       "      <td>SF</td>\n",
       "      <td>162</td>\n",
       "      <td>4528</td>\n",
       "      <td>0</td>\n",
       "      <td>0</td>\n",
       "      <td>0</td>\n",
       "      <td>0</td>\n",
       "      <td>...</td>\n",
       "      <td>1</td>\n",
       "      <td>1.0</td>\n",
       "      <td>0.0</td>\n",
       "      <td>1.00</td>\n",
       "      <td>0.0</td>\n",
       "      <td>0.0</td>\n",
       "      <td>0.0</td>\n",
       "      <td>0.0</td>\n",
       "      <td>0.0</td>\n",
       "      <td>normal.</td>\n",
       "    </tr>\n",
       "    <tr>\n",
       "      <th>1</th>\n",
       "      <td>0</td>\n",
       "      <td>tcp</td>\n",
       "      <td>http</td>\n",
       "      <td>SF</td>\n",
       "      <td>236</td>\n",
       "      <td>1228</td>\n",
       "      <td>0</td>\n",
       "      <td>0</td>\n",
       "      <td>0</td>\n",
       "      <td>0</td>\n",
       "      <td>...</td>\n",
       "      <td>2</td>\n",
       "      <td>1.0</td>\n",
       "      <td>0.0</td>\n",
       "      <td>0.50</td>\n",
       "      <td>0.0</td>\n",
       "      <td>0.0</td>\n",
       "      <td>0.0</td>\n",
       "      <td>0.0</td>\n",
       "      <td>0.0</td>\n",
       "      <td>normal.</td>\n",
       "    </tr>\n",
       "    <tr>\n",
       "      <th>2</th>\n",
       "      <td>0</td>\n",
       "      <td>tcp</td>\n",
       "      <td>http</td>\n",
       "      <td>SF</td>\n",
       "      <td>233</td>\n",
       "      <td>2032</td>\n",
       "      <td>0</td>\n",
       "      <td>0</td>\n",
       "      <td>0</td>\n",
       "      <td>0</td>\n",
       "      <td>...</td>\n",
       "      <td>3</td>\n",
       "      <td>1.0</td>\n",
       "      <td>0.0</td>\n",
       "      <td>0.33</td>\n",
       "      <td>0.0</td>\n",
       "      <td>0.0</td>\n",
       "      <td>0.0</td>\n",
       "      <td>0.0</td>\n",
       "      <td>0.0</td>\n",
       "      <td>normal.</td>\n",
       "    </tr>\n",
       "    <tr>\n",
       "      <th>3</th>\n",
       "      <td>0</td>\n",
       "      <td>tcp</td>\n",
       "      <td>http</td>\n",
       "      <td>SF</td>\n",
       "      <td>239</td>\n",
       "      <td>486</td>\n",
       "      <td>0</td>\n",
       "      <td>0</td>\n",
       "      <td>0</td>\n",
       "      <td>0</td>\n",
       "      <td>...</td>\n",
       "      <td>4</td>\n",
       "      <td>1.0</td>\n",
       "      <td>0.0</td>\n",
       "      <td>0.25</td>\n",
       "      <td>0.0</td>\n",
       "      <td>0.0</td>\n",
       "      <td>0.0</td>\n",
       "      <td>0.0</td>\n",
       "      <td>0.0</td>\n",
       "      <td>normal.</td>\n",
       "    </tr>\n",
       "    <tr>\n",
       "      <th>4</th>\n",
       "      <td>0</td>\n",
       "      <td>tcp</td>\n",
       "      <td>http</td>\n",
       "      <td>SF</td>\n",
       "      <td>238</td>\n",
       "      <td>1282</td>\n",
       "      <td>0</td>\n",
       "      <td>0</td>\n",
       "      <td>0</td>\n",
       "      <td>0</td>\n",
       "      <td>...</td>\n",
       "      <td>5</td>\n",
       "      <td>1.0</td>\n",
       "      <td>0.0</td>\n",
       "      <td>0.20</td>\n",
       "      <td>0.0</td>\n",
       "      <td>0.0</td>\n",
       "      <td>0.0</td>\n",
       "      <td>0.0</td>\n",
       "      <td>0.0</td>\n",
       "      <td>normal.</td>\n",
       "    </tr>\n",
       "  </tbody>\n",
       "</table>\n",
       "<p>5 rows × 42 columns</p>\n",
       "</div>"
      ],
      "text/plain": [
       "   duration protocol_type service flag  src_bytes  dst_bytes  land  \\\n",
       "0         0           tcp    http   SF        162       4528     0   \n",
       "1         0           tcp    http   SF        236       1228     0   \n",
       "2         0           tcp    http   SF        233       2032     0   \n",
       "3         0           tcp    http   SF        239        486     0   \n",
       "4         0           tcp    http   SF        238       1282     0   \n",
       "\n",
       "   wrong_fragment  urgent  hot  ...  dst_host_srv_count  \\\n",
       "0               0       0    0  ...                   1   \n",
       "1               0       0    0  ...                   2   \n",
       "2               0       0    0  ...                   3   \n",
       "3               0       0    0  ...                   4   \n",
       "4               0       0    0  ...                   5   \n",
       "\n",
       "   dst_host_same_srv_rate  dst_host_diff_srv_rate  \\\n",
       "0                     1.0                     0.0   \n",
       "1                     1.0                     0.0   \n",
       "2                     1.0                     0.0   \n",
       "3                     1.0                     0.0   \n",
       "4                     1.0                     0.0   \n",
       "\n",
       "   dst_host_same_src_port_rate  dst_host_srv_diff_host_rate  \\\n",
       "0                         1.00                          0.0   \n",
       "1                         0.50                          0.0   \n",
       "2                         0.33                          0.0   \n",
       "3                         0.25                          0.0   \n",
       "4                         0.20                          0.0   \n",
       "\n",
       "   dst_host_serror_rate  dst_host_srv_serror_rate  dst_host_rerror_rate  \\\n",
       "0                   0.0                       0.0                   0.0   \n",
       "1                   0.0                       0.0                   0.0   \n",
       "2                   0.0                       0.0                   0.0   \n",
       "3                   0.0                       0.0                   0.0   \n",
       "4                   0.0                       0.0                   0.0   \n",
       "\n",
       "   dst_host_srv_rerror_rate    label  \n",
       "0                       0.0  normal.  \n",
       "1                       0.0  normal.  \n",
       "2                       0.0  normal.  \n",
       "3                       0.0  normal.  \n",
       "4                       0.0  normal.  \n",
       "\n",
       "[5 rows x 42 columns]"
      ]
     },
     "execution_count": 10,
     "metadata": {},
     "output_type": "execute_result"
    }
   ],
   "source": [
    "train_data.head()"
   ]
  },
  {
   "cell_type": "code",
   "execution_count": 11,
   "id": "c5daf27e",
   "metadata": {},
   "outputs": [],
   "source": [
    "train_data.insert(0,'label_type','NAN')"
   ]
  },
  {
   "cell_type": "code",
   "execution_count": 12,
   "id": "9a3d17a6",
   "metadata": {},
   "outputs": [],
   "source": [
    "temprory=train_data"
   ]
  },
  {
   "cell_type": "code",
   "execution_count": 13,
   "id": "511a3a6a",
   "metadata": {},
   "outputs": [],
   "source": [
    "temprory.replace(cleanup_nums, inplace=True)"
   ]
  },
  {
   "cell_type": "code",
   "execution_count": 14,
   "id": "29b6281d",
   "metadata": {},
   "outputs": [],
   "source": [
    "train_data=attack_class(temprory)"
   ]
  },
  {
   "cell_type": "code",
   "execution_count": 15,
   "id": "0ac1d8bb",
   "metadata": {},
   "outputs": [
    {
     "data": {
      "text/html": [
       "<div>\n",
       "<style scoped>\n",
       "    .dataframe tbody tr th:only-of-type {\n",
       "        vertical-align: middle;\n",
       "    }\n",
       "\n",
       "    .dataframe tbody tr th {\n",
       "        vertical-align: top;\n",
       "    }\n",
       "\n",
       "    .dataframe thead th {\n",
       "        text-align: right;\n",
       "    }\n",
       "</style>\n",
       "<table border=\"1\" class=\"dataframe\">\n",
       "  <thead>\n",
       "    <tr style=\"text-align: right;\">\n",
       "      <th></th>\n",
       "      <th>label_type</th>\n",
       "      <th>duration</th>\n",
       "      <th>protocol_type</th>\n",
       "      <th>service</th>\n",
       "      <th>flag</th>\n",
       "      <th>src_bytes</th>\n",
       "      <th>dst_bytes</th>\n",
       "      <th>land</th>\n",
       "      <th>wrong_fragment</th>\n",
       "      <th>urgent</th>\n",
       "      <th>...</th>\n",
       "      <th>dst_host_srv_count</th>\n",
       "      <th>dst_host_same_srv_rate</th>\n",
       "      <th>dst_host_diff_srv_rate</th>\n",
       "      <th>dst_host_same_src_port_rate</th>\n",
       "      <th>dst_host_srv_diff_host_rate</th>\n",
       "      <th>dst_host_serror_rate</th>\n",
       "      <th>dst_host_srv_serror_rate</th>\n",
       "      <th>dst_host_rerror_rate</th>\n",
       "      <th>dst_host_srv_rerror_rate</th>\n",
       "      <th>label</th>\n",
       "    </tr>\n",
       "  </thead>\n",
       "  <tbody>\n",
       "    <tr>\n",
       "      <th>0</th>\n",
       "      <td>Normal</td>\n",
       "      <td>0</td>\n",
       "      <td>1</td>\n",
       "      <td>33</td>\n",
       "      <td>3</td>\n",
       "      <td>162</td>\n",
       "      <td>4528</td>\n",
       "      <td>0</td>\n",
       "      <td>0</td>\n",
       "      <td>0</td>\n",
       "      <td>...</td>\n",
       "      <td>1</td>\n",
       "      <td>1.0</td>\n",
       "      <td>0.0</td>\n",
       "      <td>1.00</td>\n",
       "      <td>0.0</td>\n",
       "      <td>0.0</td>\n",
       "      <td>0.0</td>\n",
       "      <td>0.0</td>\n",
       "      <td>0.0</td>\n",
       "      <td>normal.</td>\n",
       "    </tr>\n",
       "    <tr>\n",
       "      <th>1</th>\n",
       "      <td>Normal</td>\n",
       "      <td>0</td>\n",
       "      <td>1</td>\n",
       "      <td>33</td>\n",
       "      <td>3</td>\n",
       "      <td>236</td>\n",
       "      <td>1228</td>\n",
       "      <td>0</td>\n",
       "      <td>0</td>\n",
       "      <td>0</td>\n",
       "      <td>...</td>\n",
       "      <td>2</td>\n",
       "      <td>1.0</td>\n",
       "      <td>0.0</td>\n",
       "      <td>0.50</td>\n",
       "      <td>0.0</td>\n",
       "      <td>0.0</td>\n",
       "      <td>0.0</td>\n",
       "      <td>0.0</td>\n",
       "      <td>0.0</td>\n",
       "      <td>normal.</td>\n",
       "    </tr>\n",
       "    <tr>\n",
       "      <th>2</th>\n",
       "      <td>Normal</td>\n",
       "      <td>0</td>\n",
       "      <td>1</td>\n",
       "      <td>33</td>\n",
       "      <td>3</td>\n",
       "      <td>233</td>\n",
       "      <td>2032</td>\n",
       "      <td>0</td>\n",
       "      <td>0</td>\n",
       "      <td>0</td>\n",
       "      <td>...</td>\n",
       "      <td>3</td>\n",
       "      <td>1.0</td>\n",
       "      <td>0.0</td>\n",
       "      <td>0.33</td>\n",
       "      <td>0.0</td>\n",
       "      <td>0.0</td>\n",
       "      <td>0.0</td>\n",
       "      <td>0.0</td>\n",
       "      <td>0.0</td>\n",
       "      <td>normal.</td>\n",
       "    </tr>\n",
       "    <tr>\n",
       "      <th>3</th>\n",
       "      <td>Normal</td>\n",
       "      <td>0</td>\n",
       "      <td>1</td>\n",
       "      <td>33</td>\n",
       "      <td>3</td>\n",
       "      <td>239</td>\n",
       "      <td>486</td>\n",
       "      <td>0</td>\n",
       "      <td>0</td>\n",
       "      <td>0</td>\n",
       "      <td>...</td>\n",
       "      <td>4</td>\n",
       "      <td>1.0</td>\n",
       "      <td>0.0</td>\n",
       "      <td>0.25</td>\n",
       "      <td>0.0</td>\n",
       "      <td>0.0</td>\n",
       "      <td>0.0</td>\n",
       "      <td>0.0</td>\n",
       "      <td>0.0</td>\n",
       "      <td>normal.</td>\n",
       "    </tr>\n",
       "    <tr>\n",
       "      <th>4</th>\n",
       "      <td>Normal</td>\n",
       "      <td>0</td>\n",
       "      <td>1</td>\n",
       "      <td>33</td>\n",
       "      <td>3</td>\n",
       "      <td>238</td>\n",
       "      <td>1282</td>\n",
       "      <td>0</td>\n",
       "      <td>0</td>\n",
       "      <td>0</td>\n",
       "      <td>...</td>\n",
       "      <td>5</td>\n",
       "      <td>1.0</td>\n",
       "      <td>0.0</td>\n",
       "      <td>0.20</td>\n",
       "      <td>0.0</td>\n",
       "      <td>0.0</td>\n",
       "      <td>0.0</td>\n",
       "      <td>0.0</td>\n",
       "      <td>0.0</td>\n",
       "      <td>normal.</td>\n",
       "    </tr>\n",
       "  </tbody>\n",
       "</table>\n",
       "<p>5 rows × 43 columns</p>\n",
       "</div>"
      ],
      "text/plain": [
       "  label_type  duration  protocol_type  service  flag  src_bytes  dst_bytes  \\\n",
       "0     Normal         0              1       33     3        162       4528   \n",
       "1     Normal         0              1       33     3        236       1228   \n",
       "2     Normal         0              1       33     3        233       2032   \n",
       "3     Normal         0              1       33     3        239        486   \n",
       "4     Normal         0              1       33     3        238       1282   \n",
       "\n",
       "   land  wrong_fragment  urgent  ...  dst_host_srv_count  \\\n",
       "0     0               0       0  ...                   1   \n",
       "1     0               0       0  ...                   2   \n",
       "2     0               0       0  ...                   3   \n",
       "3     0               0       0  ...                   4   \n",
       "4     0               0       0  ...                   5   \n",
       "\n",
       "   dst_host_same_srv_rate  dst_host_diff_srv_rate  \\\n",
       "0                     1.0                     0.0   \n",
       "1                     1.0                     0.0   \n",
       "2                     1.0                     0.0   \n",
       "3                     1.0                     0.0   \n",
       "4                     1.0                     0.0   \n",
       "\n",
       "   dst_host_same_src_port_rate  dst_host_srv_diff_host_rate  \\\n",
       "0                         1.00                          0.0   \n",
       "1                         0.50                          0.0   \n",
       "2                         0.33                          0.0   \n",
       "3                         0.25                          0.0   \n",
       "4                         0.20                          0.0   \n",
       "\n",
       "   dst_host_serror_rate  dst_host_srv_serror_rate  dst_host_rerror_rate  \\\n",
       "0                   0.0                       0.0                   0.0   \n",
       "1                   0.0                       0.0                   0.0   \n",
       "2                   0.0                       0.0                   0.0   \n",
       "3                   0.0                       0.0                   0.0   \n",
       "4                   0.0                       0.0                   0.0   \n",
       "\n",
       "   dst_host_srv_rerror_rate    label  \n",
       "0                       0.0  normal.  \n",
       "1                       0.0  normal.  \n",
       "2                       0.0  normal.  \n",
       "3                       0.0  normal.  \n",
       "4                       0.0  normal.  \n",
       "\n",
       "[5 rows x 43 columns]"
      ]
     },
     "execution_count": 15,
     "metadata": {},
     "output_type": "execute_result"
    }
   ],
   "source": [
    "train_data.head()"
   ]
  },
  {
   "cell_type": "code",
   "execution_count": 16,
   "id": "7420ebce",
   "metadata": {},
   "outputs": [
    {
     "data": {
      "text/plain": [
       "Not Normal    3925650\n",
       "Normal         972780\n",
       "Name: label_type, dtype: int64"
      ]
     },
     "execution_count": 16,
     "metadata": {},
     "output_type": "execute_result"
    }
   ],
   "source": [
    "train_data['label_type'].value_counts()"
   ]
  },
  {
   "cell_type": "code",
   "execution_count": 17,
   "id": "4fbbf2a2",
   "metadata": {},
   "outputs": [],
   "source": [
    "train_data.replace(attack_map, inplace=True)"
   ]
  },
  {
   "cell_type": "code",
   "execution_count": 18,
   "id": "e7ef07b3",
   "metadata": {},
   "outputs": [],
   "source": [
    "train_data.drop('label', axis = 1, inplace = True)"
   ]
  },
  {
   "cell_type": "code",
   "execution_count": 19,
   "id": "03307599",
   "metadata": {},
   "outputs": [
    {
     "data": {
      "text/html": [
       "<div>\n",
       "<style scoped>\n",
       "    .dataframe tbody tr th:only-of-type {\n",
       "        vertical-align: middle;\n",
       "    }\n",
       "\n",
       "    .dataframe tbody tr th {\n",
       "        vertical-align: top;\n",
       "    }\n",
       "\n",
       "    .dataframe thead th {\n",
       "        text-align: right;\n",
       "    }\n",
       "</style>\n",
       "<table border=\"1\" class=\"dataframe\">\n",
       "  <thead>\n",
       "    <tr style=\"text-align: right;\">\n",
       "      <th></th>\n",
       "      <th>label_type</th>\n",
       "      <th>duration</th>\n",
       "      <th>protocol_type</th>\n",
       "      <th>service</th>\n",
       "      <th>flag</th>\n",
       "      <th>src_bytes</th>\n",
       "      <th>dst_bytes</th>\n",
       "      <th>land</th>\n",
       "      <th>wrong_fragment</th>\n",
       "      <th>urgent</th>\n",
       "      <th>...</th>\n",
       "      <th>dst_host_count</th>\n",
       "      <th>dst_host_srv_count</th>\n",
       "      <th>dst_host_same_srv_rate</th>\n",
       "      <th>dst_host_diff_srv_rate</th>\n",
       "      <th>dst_host_same_src_port_rate</th>\n",
       "      <th>dst_host_srv_diff_host_rate</th>\n",
       "      <th>dst_host_serror_rate</th>\n",
       "      <th>dst_host_srv_serror_rate</th>\n",
       "      <th>dst_host_rerror_rate</th>\n",
       "      <th>dst_host_srv_rerror_rate</th>\n",
       "    </tr>\n",
       "  </thead>\n",
       "  <tbody>\n",
       "    <tr>\n",
       "      <th>0</th>\n",
       "      <td>1</td>\n",
       "      <td>0</td>\n",
       "      <td>1</td>\n",
       "      <td>33</td>\n",
       "      <td>3</td>\n",
       "      <td>162</td>\n",
       "      <td>4528</td>\n",
       "      <td>0</td>\n",
       "      <td>0</td>\n",
       "      <td>0</td>\n",
       "      <td>...</td>\n",
       "      <td>1</td>\n",
       "      <td>1</td>\n",
       "      <td>1.0</td>\n",
       "      <td>0.0</td>\n",
       "      <td>1.00</td>\n",
       "      <td>0.0</td>\n",
       "      <td>0.0</td>\n",
       "      <td>0.0</td>\n",
       "      <td>0.0</td>\n",
       "      <td>0.0</td>\n",
       "    </tr>\n",
       "    <tr>\n",
       "      <th>1</th>\n",
       "      <td>1</td>\n",
       "      <td>0</td>\n",
       "      <td>1</td>\n",
       "      <td>33</td>\n",
       "      <td>3</td>\n",
       "      <td>236</td>\n",
       "      <td>1228</td>\n",
       "      <td>0</td>\n",
       "      <td>0</td>\n",
       "      <td>0</td>\n",
       "      <td>...</td>\n",
       "      <td>2</td>\n",
       "      <td>2</td>\n",
       "      <td>1.0</td>\n",
       "      <td>0.0</td>\n",
       "      <td>0.50</td>\n",
       "      <td>0.0</td>\n",
       "      <td>0.0</td>\n",
       "      <td>0.0</td>\n",
       "      <td>0.0</td>\n",
       "      <td>0.0</td>\n",
       "    </tr>\n",
       "    <tr>\n",
       "      <th>2</th>\n",
       "      <td>1</td>\n",
       "      <td>0</td>\n",
       "      <td>1</td>\n",
       "      <td>33</td>\n",
       "      <td>3</td>\n",
       "      <td>233</td>\n",
       "      <td>2032</td>\n",
       "      <td>0</td>\n",
       "      <td>0</td>\n",
       "      <td>0</td>\n",
       "      <td>...</td>\n",
       "      <td>3</td>\n",
       "      <td>3</td>\n",
       "      <td>1.0</td>\n",
       "      <td>0.0</td>\n",
       "      <td>0.33</td>\n",
       "      <td>0.0</td>\n",
       "      <td>0.0</td>\n",
       "      <td>0.0</td>\n",
       "      <td>0.0</td>\n",
       "      <td>0.0</td>\n",
       "    </tr>\n",
       "    <tr>\n",
       "      <th>3</th>\n",
       "      <td>1</td>\n",
       "      <td>0</td>\n",
       "      <td>1</td>\n",
       "      <td>33</td>\n",
       "      <td>3</td>\n",
       "      <td>239</td>\n",
       "      <td>486</td>\n",
       "      <td>0</td>\n",
       "      <td>0</td>\n",
       "      <td>0</td>\n",
       "      <td>...</td>\n",
       "      <td>4</td>\n",
       "      <td>4</td>\n",
       "      <td>1.0</td>\n",
       "      <td>0.0</td>\n",
       "      <td>0.25</td>\n",
       "      <td>0.0</td>\n",
       "      <td>0.0</td>\n",
       "      <td>0.0</td>\n",
       "      <td>0.0</td>\n",
       "      <td>0.0</td>\n",
       "    </tr>\n",
       "    <tr>\n",
       "      <th>4</th>\n",
       "      <td>1</td>\n",
       "      <td>0</td>\n",
       "      <td>1</td>\n",
       "      <td>33</td>\n",
       "      <td>3</td>\n",
       "      <td>238</td>\n",
       "      <td>1282</td>\n",
       "      <td>0</td>\n",
       "      <td>0</td>\n",
       "      <td>0</td>\n",
       "      <td>...</td>\n",
       "      <td>5</td>\n",
       "      <td>5</td>\n",
       "      <td>1.0</td>\n",
       "      <td>0.0</td>\n",
       "      <td>0.20</td>\n",
       "      <td>0.0</td>\n",
       "      <td>0.0</td>\n",
       "      <td>0.0</td>\n",
       "      <td>0.0</td>\n",
       "      <td>0.0</td>\n",
       "    </tr>\n",
       "  </tbody>\n",
       "</table>\n",
       "<p>5 rows × 42 columns</p>\n",
       "</div>"
      ],
      "text/plain": [
       "   label_type  duration  protocol_type  service  flag  src_bytes  dst_bytes  \\\n",
       "0           1         0              1       33     3        162       4528   \n",
       "1           1         0              1       33     3        236       1228   \n",
       "2           1         0              1       33     3        233       2032   \n",
       "3           1         0              1       33     3        239        486   \n",
       "4           1         0              1       33     3        238       1282   \n",
       "\n",
       "   land  wrong_fragment  urgent  ...  dst_host_count  dst_host_srv_count  \\\n",
       "0     0               0       0  ...               1                   1   \n",
       "1     0               0       0  ...               2                   2   \n",
       "2     0               0       0  ...               3                   3   \n",
       "3     0               0       0  ...               4                   4   \n",
       "4     0               0       0  ...               5                   5   \n",
       "\n",
       "   dst_host_same_srv_rate  dst_host_diff_srv_rate  \\\n",
       "0                     1.0                     0.0   \n",
       "1                     1.0                     0.0   \n",
       "2                     1.0                     0.0   \n",
       "3                     1.0                     0.0   \n",
       "4                     1.0                     0.0   \n",
       "\n",
       "   dst_host_same_src_port_rate  dst_host_srv_diff_host_rate  \\\n",
       "0                         1.00                          0.0   \n",
       "1                         0.50                          0.0   \n",
       "2                         0.33                          0.0   \n",
       "3                         0.25                          0.0   \n",
       "4                         0.20                          0.0   \n",
       "\n",
       "   dst_host_serror_rate  dst_host_srv_serror_rate  dst_host_rerror_rate  \\\n",
       "0                   0.0                       0.0                   0.0   \n",
       "1                   0.0                       0.0                   0.0   \n",
       "2                   0.0                       0.0                   0.0   \n",
       "3                   0.0                       0.0                   0.0   \n",
       "4                   0.0                       0.0                   0.0   \n",
       "\n",
       "   dst_host_srv_rerror_rate  \n",
       "0                       0.0  \n",
       "1                       0.0  \n",
       "2                       0.0  \n",
       "3                       0.0  \n",
       "4                       0.0  \n",
       "\n",
       "[5 rows x 42 columns]"
      ]
     },
     "execution_count": 19,
     "metadata": {},
     "output_type": "execute_result"
    }
   ],
   "source": [
    "train_data.head()"
   ]
  },
  {
   "cell_type": "code",
   "execution_count": 20,
   "id": "64076aea",
   "metadata": {},
   "outputs": [],
   "source": [
    "from sklearn.ensemble import RandomForestClassifier"
   ]
  },
  {
   "cell_type": "code",
   "execution_count": 22,
   "id": "cfce1a14",
   "metadata": {},
   "outputs": [],
   "source": [
    "clf=RandomForestClassifier()"
   ]
  },
  {
   "cell_type": "code",
   "execution_count": 21,
   "id": "6cdb971e",
   "metadata": {},
   "outputs": [],
   "source": [
    "train_data_values=train_data.values"
   ]
  },
  {
   "cell_type": "code",
   "execution_count": 22,
   "id": "92894566",
   "metadata": {},
   "outputs": [],
   "source": [
    "features_train=train_data_values[:,1:42]"
   ]
  },
  {
   "cell_type": "code",
   "execution_count": 23,
   "id": "e9c3af1d",
   "metadata": {},
   "outputs": [],
   "source": [
    "labels_train=train_data_values[:,0]"
   ]
  },
  {
   "cell_type": "code",
   "execution_count": 76,
   "id": "4c992bcf",
   "metadata": {},
   "outputs": [
    {
     "data": {
      "text/plain": [
       "RandomForestClassifier()"
      ]
     },
     "execution_count": 76,
     "metadata": {},
     "output_type": "execute_result"
    }
   ],
   "source": [
    "clf.fit(features_train,labels_train)"
   ]
  },
  {
   "cell_type": "code",
   "execution_count": 78,
   "id": "88993387",
   "metadata": {},
   "outputs": [
    {
     "data": {
      "text/plain": [
       "array([6.65239742e-03, 2.46936102e-02, 1.25861451e-01, 1.94493694e-02,\n",
       "       5.55719259e-02, 1.39896930e-01, 1.45872235e-06, 4.04417403e-04,\n",
       "       1.21293361e-06, 5.57828031e-04, 1.21189219e-05, 8.47216140e-02,\n",
       "       8.57600278e-04, 4.88837116e-06, 8.07647093e-07, 7.44430103e-05,\n",
       "       7.85780570e-06, 3.25846981e-06, 2.60107371e-06, 0.00000000e+00,\n",
       "       0.00000000e+00, 2.90176157e-05, 2.01036185e-01, 4.61933901e-02,\n",
       "       8.09951233e-03, 2.71770390e-03, 7.49054259e-04, 4.44600348e-03,\n",
       "       2.99404876e-02, 2.21902679e-02, 2.10199679e-02, 6.82750092e-02,\n",
       "       2.49447513e-02, 9.72451478e-03, 1.51006323e-02, 4.15620527e-02,\n",
       "       2.66832533e-02, 1.15915592e-02, 3.24459126e-03, 1.77598596e-03,\n",
       "       1.90026962e-03])"
      ]
     },
     "execution_count": 78,
     "metadata": {},
     "output_type": "execute_result"
    }
   ],
   "source": [
    "clf.feature_importances_"
   ]
  },
  {
   "cell_type": "code",
   "execution_count": 77,
   "id": "e3494f5e",
   "metadata": {},
   "outputs": [
    {
     "data": {
      "text/plain": [
       "array([[0.0e+00, 1.0e+00, 3.3e+01, ..., 0.0e+00, 0.0e+00, 0.0e+00],\n",
       "       [0.0e+00, 1.0e+00, 3.3e+01, ..., 0.0e+00, 0.0e+00, 0.0e+00],\n",
       "       [0.0e+00, 1.0e+00, 3.3e+01, ..., 0.0e+00, 0.0e+00, 0.0e+00],\n",
       "       ...,\n",
       "       [0.0e+00, 1.0e+00, 3.3e+01, ..., 1.0e-02, 0.0e+00, 0.0e+00],\n",
       "       [0.0e+00, 1.0e+00, 3.3e+01, ..., 1.0e-02, 0.0e+00, 0.0e+00],\n",
       "       [0.0e+00, 1.0e+00, 3.3e+01, ..., 1.0e-02, 0.0e+00, 0.0e+00]])"
      ]
     },
     "execution_count": 77,
     "metadata": {},
     "output_type": "execute_result"
    }
   ],
   "source": [
    "features_train"
   ]
  },
  {
   "cell_type": "code",
   "execution_count": 79,
   "id": "6eaad99b",
   "metadata": {},
   "outputs": [],
   "source": [
    "from sklearn.feature_selection import SelectFromModel"
   ]
  },
  {
   "cell_type": "code",
   "execution_count": 80,
   "id": "c1fd2443",
   "metadata": {},
   "outputs": [],
   "source": [
    "model = SelectFromModel(clf, prefit=True)"
   ]
  },
  {
   "cell_type": "code",
   "execution_count": 81,
   "id": "31fc8881",
   "metadata": {},
   "outputs": [],
   "source": [
    "feature_idx = model.get_support()"
   ]
  },
  {
   "cell_type": "code",
   "execution_count": 82,
   "id": "e8052c30",
   "metadata": {},
   "outputs": [
    {
     "data": {
      "text/plain": [
       "array([False,  True,  True, False,  True,  True, False, False, False,\n",
       "       False, False,  True, False, False, False, False, False, False,\n",
       "       False, False, False, False,  True,  True, False, False, False,\n",
       "       False,  True, False, False,  True,  True, False, False,  True,\n",
       "        True, False, False, False, False])"
      ]
     },
     "execution_count": 82,
     "metadata": {},
     "output_type": "execute_result"
    }
   ],
   "source": [
    "feature_idx"
   ]
  },
  {
   "cell_type": "code",
   "execution_count": 83,
   "id": "0e675608",
   "metadata": {},
   "outputs": [],
   "source": [
    "temp=model.transform(features_train)"
   ]
  },
  {
   "cell_type": "code",
   "execution_count": 85,
   "id": "4767b867",
   "metadata": {},
   "outputs": [
    {
     "data": {
      "text/plain": [
       "(4898430, 12)"
      ]
     },
     "execution_count": 85,
     "metadata": {},
     "output_type": "execute_result"
    }
   ],
   "source": [
    "temp.shape"
   ]
  },
  {
   "cell_type": "code",
   "execution_count": 86,
   "id": "90723897",
   "metadata": {},
   "outputs": [
    {
     "data": {
      "text/plain": [
       "RandomForestClassifier()"
      ]
     },
     "execution_count": 86,
     "metadata": {},
     "output_type": "execute_result"
    }
   ],
   "source": [
    "clf.fit(temp,labels_train)"
   ]
  },
  {
   "cell_type": "code",
   "execution_count": 27,
   "id": "19d03dd4",
   "metadata": {},
   "outputs": [],
   "source": [
    "import pickle"
   ]
  },
  {
   "cell_type": "code",
   "execution_count": 87,
   "id": "a6b2c370",
   "metadata": {},
   "outputs": [],
   "source": [
    "s=pickle.dumps(clf)"
   ]
  },
  {
   "cell_type": "code",
   "execution_count": 88,
   "id": "d2e8cc97",
   "metadata": {},
   "outputs": [],
   "source": [
    "f=open('random_forest_clf.model','wb')"
   ]
  },
  {
   "cell_type": "code",
   "execution_count": 89,
   "id": "b32d82d4",
   "metadata": {},
   "outputs": [
    {
     "data": {
      "text/plain": [
       "10357029"
      ]
     },
     "execution_count": 89,
     "metadata": {},
     "output_type": "execute_result"
    }
   ],
   "source": [
    "f.write(s)"
   ]
  },
  {
   "cell_type": "code",
   "execution_count": 90,
   "id": "c3fb8ece",
   "metadata": {},
   "outputs": [],
   "source": [
    "from sklearn.naive_bayes import GaussianNB"
   ]
  },
  {
   "cell_type": "code",
   "execution_count": 91,
   "id": "c26947a7",
   "metadata": {},
   "outputs": [],
   "source": [
    "clf1=GaussianNB()"
   ]
  },
  {
   "cell_type": "code",
   "execution_count": 92,
   "id": "650a6509",
   "metadata": {},
   "outputs": [
    {
     "data": {
      "text/plain": [
       "(4898430, 41)"
      ]
     },
     "execution_count": 92,
     "metadata": {},
     "output_type": "execute_result"
    }
   ],
   "source": [
    "features_train.shape"
   ]
  },
  {
   "cell_type": "code",
   "execution_count": 93,
   "id": "89bc6ed1",
   "metadata": {},
   "outputs": [
    {
     "data": {
      "text/plain": [
       "GaussianNB()"
      ]
     },
     "execution_count": 93,
     "metadata": {},
     "output_type": "execute_result"
    }
   ],
   "source": [
    "clf1.fit(features_train,labels_train)"
   ]
  },
  {
   "cell_type": "code",
   "execution_count": 94,
   "id": "b31e84fc",
   "metadata": {},
   "outputs": [],
   "source": [
    "model = SelectFromModel(clf1, prefit=True)"
   ]
  },
  {
   "cell_type": "code",
   "execution_count": 96,
   "id": "15ec49f1",
   "metadata": {},
   "outputs": [],
   "source": [
    "s=pickle.dumps(clf1)"
   ]
  },
  {
   "cell_type": "code",
   "execution_count": 97,
   "id": "5db2d908",
   "metadata": {},
   "outputs": [],
   "source": [
    "f=open('NB_clf.model','wb')"
   ]
  },
  {
   "cell_type": "code",
   "execution_count": 98,
   "id": "21d5c5e1",
   "metadata": {},
   "outputs": [
    {
     "data": {
      "text/plain": [
       "1864"
      ]
     },
     "execution_count": 98,
     "metadata": {},
     "output_type": "execute_result"
    }
   ],
   "source": [
    "f.write(s)"
   ]
  },
  {
   "cell_type": "code",
   "execution_count": 99,
   "id": "bb207e43",
   "metadata": {},
   "outputs": [],
   "source": [
    "from sklearn.tree import DecisionTreeClassifier"
   ]
  },
  {
   "cell_type": "code",
   "execution_count": 100,
   "id": "a0c17821",
   "metadata": {},
   "outputs": [],
   "source": [
    "clf2=DecisionTreeClassifier()"
   ]
  },
  {
   "cell_type": "code",
   "execution_count": 101,
   "id": "47fb0185",
   "metadata": {},
   "outputs": [
    {
     "data": {
      "text/plain": [
       "DecisionTreeClassifier()"
      ]
     },
     "execution_count": 101,
     "metadata": {},
     "output_type": "execute_result"
    }
   ],
   "source": [
    "clf2.fit(features_train,labels_train)"
   ]
  },
  {
   "cell_type": "code",
   "execution_count": 102,
   "id": "ce1ecd9f",
   "metadata": {},
   "outputs": [
    {
     "data": {
      "text/plain": [
       "array([2.86479318e-05, 2.66198914e-05, 1.09774957e-03, 8.90571925e-03,\n",
       "       5.93300812e-03, 1.72445234e-02, 3.97576764e-06, 7.90286943e-04,\n",
       "       1.40472081e-06, 1.78466141e-04, 6.13120091e-06, 2.18249459e-05,\n",
       "       2.05703401e-03, 2.30484431e-06, 0.00000000e+00, 6.45185144e-06,\n",
       "       8.45264174e-06, 6.26500985e-06, 0.00000000e+00, 0.00000000e+00,\n",
       "       0.00000000e+00, 1.22485600e-05, 9.22482353e-01, 5.32686911e-04,\n",
       "       0.00000000e+00, 5.42290114e-06, 5.92643048e-06, 1.85642272e-05,\n",
       "       5.97132497e-04, 1.27369218e-06, 3.72996442e-06, 6.39812636e-05,\n",
       "       4.16843804e-05, 1.06061977e-04, 2.02311007e-03, 7.10755187e-05,\n",
       "       1.29524122e-02, 1.76584204e-04, 2.41282949e-02, 4.20015633e-04,\n",
       "       3.85755263e-05])"
      ]
     },
     "execution_count": 102,
     "metadata": {},
     "output_type": "execute_result"
    }
   ],
   "source": [
    "clf2.feature_importances_"
   ]
  },
  {
   "cell_type": "code",
   "execution_count": 103,
   "id": "79fe32c8",
   "metadata": {},
   "outputs": [],
   "source": [
    "model = SelectFromModel(clf2, prefit=True)"
   ]
  },
  {
   "cell_type": "code",
   "execution_count": 104,
   "id": "fb7f6b45",
   "metadata": {},
   "outputs": [],
   "source": [
    "feature_idx = model.get_support()"
   ]
  },
  {
   "cell_type": "code",
   "execution_count": 105,
   "id": "12f7d978",
   "metadata": {},
   "outputs": [
    {
     "data": {
      "text/plain": [
       "array([False, False, False, False, False, False, False, False, False,\n",
       "       False, False, False, False, False, False, False, False, False,\n",
       "       False, False, False, False,  True, False, False, False, False,\n",
       "       False, False, False, False, False, False, False, False, False,\n",
       "       False, False, False, False, False])"
      ]
     },
     "execution_count": 105,
     "metadata": {},
     "output_type": "execute_result"
    }
   ],
   "source": [
    "feature_idx"
   ]
  },
  {
   "cell_type": "code",
   "execution_count": 106,
   "id": "d4316c56",
   "metadata": {},
   "outputs": [],
   "source": [
    "temp=model.transform(features_train)"
   ]
  },
  {
   "cell_type": "code",
   "execution_count": 107,
   "id": "49933ec6",
   "metadata": {},
   "outputs": [
    {
     "data": {
      "text/plain": [
       "(4898430, 1)"
      ]
     },
     "execution_count": 107,
     "metadata": {},
     "output_type": "execute_result"
    }
   ],
   "source": [
    "temp.shape"
   ]
  },
  {
   "cell_type": "code",
   "execution_count": 108,
   "id": "c9243f58",
   "metadata": {},
   "outputs": [
    {
     "data": {
      "text/plain": [
       "DecisionTreeClassifier()"
      ]
     },
     "execution_count": 108,
     "metadata": {},
     "output_type": "execute_result"
    }
   ],
   "source": [
    "clf2.fit(temp,labels_train)"
   ]
  },
  {
   "cell_type": "code",
   "execution_count": 109,
   "id": "910970b9",
   "metadata": {},
   "outputs": [],
   "source": [
    "s=pickle.dumps(clf2)"
   ]
  },
  {
   "cell_type": "code",
   "execution_count": 110,
   "id": "0768c512",
   "metadata": {},
   "outputs": [],
   "source": [
    "f=open('descission_tree.model','wb')"
   ]
  },
  {
   "cell_type": "code",
   "execution_count": 111,
   "id": "a798dc94",
   "metadata": {},
   "outputs": [
    {
     "data": {
      "text/plain": [
       "73871"
      ]
     },
     "execution_count": 111,
     "metadata": {},
     "output_type": "execute_result"
    }
   ],
   "source": [
    "f.write(s)"
   ]
  },
  {
   "cell_type": "code",
   "execution_count": 24,
   "id": "79797aef",
   "metadata": {},
   "outputs": [],
   "source": [
    "from sklearn.linear_model import LogisticRegression"
   ]
  },
  {
   "cell_type": "code",
   "execution_count": 25,
   "id": "4de8ee10",
   "metadata": {},
   "outputs": [],
   "source": [
    "clf3=LogisticRegression()"
   ]
  },
  {
   "cell_type": "code",
   "execution_count": 26,
   "id": "e7a7cb5b",
   "metadata": {},
   "outputs": [
    {
     "name": "stderr",
     "output_type": "stream",
     "text": [
      "c:\\users\\91987\\appdata\\local\\programs\\python\\python39\\lib\\site-packages\\sklearn\\linear_model\\_logistic.py:763: ConvergenceWarning: lbfgs failed to converge (status=1):\n",
      "STOP: TOTAL NO. of ITERATIONS REACHED LIMIT.\n",
      "\n",
      "Increase the number of iterations (max_iter) or scale the data as shown in:\n",
      "    https://scikit-learn.org/stable/modules/preprocessing.html\n",
      "Please also refer to the documentation for alternative solver options:\n",
      "    https://scikit-learn.org/stable/modules/linear_model.html#logistic-regression\n",
      "  n_iter_i = _check_optimize_result(\n"
     ]
    },
    {
     "data": {
      "text/plain": [
       "LogisticRegression()"
      ]
     },
     "execution_count": 26,
     "metadata": {},
     "output_type": "execute_result"
    }
   ],
   "source": [
    "clf3.fit(features_train,labels_train)"
   ]
  },
  {
   "cell_type": "code",
   "execution_count": 28,
   "id": "53db3510",
   "metadata": {},
   "outputs": [],
   "source": [
    "s=pickle.dumps(clf3)"
   ]
  },
  {
   "cell_type": "code",
   "execution_count": 29,
   "id": "53178d0b",
   "metadata": {},
   "outputs": [],
   "source": [
    "f=open('logistic_regression.model','wb')"
   ]
  },
  {
   "cell_type": "code",
   "execution_count": 30,
   "id": "ad81b0b8",
   "metadata": {},
   "outputs": [
    {
     "data": {
      "text/plain": [
       "1006"
      ]
     },
     "execution_count": 30,
     "metadata": {},
     "output_type": "execute_result"
    }
   ],
   "source": [
    "f.write(s)"
   ]
  },
  {
   "cell_type": "code",
   "execution_count": 31,
   "id": "02eb17d2",
   "metadata": {},
   "outputs": [],
   "source": [
    "f.close()"
   ]
  }
 ],
 "metadata": {
  "kernelspec": {
   "display_name": "Python 3",
   "language": "python",
   "name": "python3"
  },
  "language_info": {
   "codemirror_mode": {
    "name": "ipython",
    "version": 3
   },
   "file_extension": ".py",
   "mimetype": "text/x-python",
   "name": "python",
   "nbconvert_exporter": "python",
   "pygments_lexer": "ipython3",
   "version": "3.9.0"
  }
 },
 "nbformat": 4,
 "nbformat_minor": 5
}
